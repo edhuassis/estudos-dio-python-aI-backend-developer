{
  "nbformat": 4,
  "nbformat_minor": 0,
  "metadata": {
    "colab": {
      "provenance": [],
      "authorship_tag": "ABX9TyOYxY0/Pwn8uLJk0HVm8b32",
      "include_colab_link": true
    },
    "kernelspec": {
      "name": "python3",
      "display_name": "Python 3"
    },
    "language_info": {
      "name": "python"
    }
  },
  "cells": [
    {
      "cell_type": "markdown",
      "metadata": {
        "id": "view-in-github",
        "colab_type": "text"
      },
      "source": [
        "<a href=\"https://colab.research.google.com/github/edhuassis/estudos-dio-python-aI-backend-developer/blob/main/Variaveis_e_constantes.ipynb\" target=\"_parent\"><img src=\"https://colab.research.google.com/assets/colab-badge.svg\" alt=\"Open In Colab\"/></a>"
      ]
    },
    {
      "cell_type": "markdown",
      "source": [
        "Constantes e variaveis"
      ],
      "metadata": {
        "id": "Q6WOlgW1Dow5"
      }
    },
    {
      "cell_type": "code",
      "execution_count": null,
      "metadata": {
        "id": "CLD3nndl8Zxl"
      },
      "outputs": [],
      "source": [
        "# Constantes são definidas em maiusculo exemplos:\n",
        "DEBUG = True\n",
        "STATES = [\n",
        "    'SP',\n",
        "    'RJ',\n",
        "    'MG',\n",
        "]\n",
        "\n",
        "AMOUNT = 30.2"
      ]
    },
    {
      "cell_type": "code",
      "source": [
        "# Variaveis são atribuidas por seus conteudos\n",
        "nome = 'Miguel'\n",
        "idade = 14\n",
        "status = True\n"
      ],
      "metadata": {
        "id": "mZF6D1w5-gBk"
      },
      "execution_count": null,
      "outputs": []
    },
    {
      "cell_type": "code",
      "source": [
        "# Boas praticas\n",
        "# O padrão de nomes deve ser snake case.\n",
        "quantidade_caixas = 10\n",
        "# Escolher nomes sugestivos.\n",
        "valor_diario = 12,00\n",
        "# Nome de constantes todos em maiúsculo\n",
        "DEBUG = True"
      ],
      "metadata": {
        "id": "DKINCT17_HCU"
      },
      "execution_count": null,
      "outputs": []
    },
    {
      "cell_type": "markdown",
      "source": [
        "Conversão de tipos de Variaveis"
      ],
      "metadata": {
        "id": "BoEEJ3piDxbl"
      }
    },
    {
      "cell_type": "code",
      "source": [
        "# Conversão de tipos\n",
        "\n",
        "# Converter inteiro\n",
        "print(int(1.5454848))\n",
        "\n",
        "# Converter para float\n",
        "print(float(\"10.10\"))\n",
        "\n",
        "# Converter string\n",
        "valor = 10\n",
        "valor_str = str(valor)\n",
        "\n",
        "# Exibindo tipo de valor\n",
        "print(type(valor))\n",
        "print(type(valor_str))\n"
      ],
      "metadata": {
        "colab": {
          "base_uri": "https://localhost:8080/"
        },
        "id": "RPNqBIkxA20p",
        "outputId": "de0b1230-755c-4b9e-df17-b519c2f784a8"
      },
      "execution_count": null,
      "outputs": [
        {
          "output_type": "stream",
          "name": "stdout",
          "text": [
            "1\n",
            "10.1\n",
            "<class 'int'>\n",
            "<class 'str'>\n"
          ]
        }
      ]
    },
    {
      "cell_type": "markdown",
      "source": [
        "Funções de entrada e saida"
      ],
      "metadata": {
        "id": "6nzlOXJSD2W5"
      }
    },
    {
      "cell_type": "code",
      "source": [
        "# Uso da função input\n",
        "\n",
        "nome = input(\"Informe seu nome\")"
      ],
      "metadata": {
        "colab": {
          "base_uri": "https://localhost:8080/"
        },
        "id": "RWUQaWgaDmbt",
        "outputId": "1d9ff2f5-fed3-4cec-8484-c43fe12896d5"
      },
      "execution_count": null,
      "outputs": [
        {
          "name": "stdout",
          "output_type": "stream",
          "text": [
            "Informe seu nomeGuilherme\n"
          ]
        }
      ]
    },
    {
      "cell_type": "code",
      "source": [
        "# Uso da função print\n",
        "\n",
        "print(nome)"
      ],
      "metadata": {
        "colab": {
          "base_uri": "https://localhost:8080/"
        },
        "id": "iGmhpAA_EpzA",
        "outputId": "eafe61bb-53ec-483a-82d8-7bce7560948b"
      },
      "execution_count": null,
      "outputs": [
        {
          "output_type": "stream",
          "name": "stdout",
          "text": [
            "Guilherme\n"
          ]
        }
      ]
    },
    {
      "cell_type": "code",
      "source": [
        "# Dividir um numero e converter em inteiro\n",
        "print(5//2)"
      ],
      "metadata": {
        "colab": {
          "base_uri": "https://localhost:8080/"
        },
        "id": "sSC4GALzE0BF",
        "outputId": "95929682-fc93-4d86-8cc9-7d1d0068a0cb"
      },
      "execution_count": null,
      "outputs": [
        {
          "output_type": "stream",
          "name": "stdout",
          "text": [
            "2\n"
          ]
        }
      ]
    },
    {
      "cell_type": "code",
      "source": [
        "# Mostrar erro ao tentar converter uma string em float\n",
        "print(float(\"a\"))"
      ],
      "metadata": {
        "colab": {
          "base_uri": "https://localhost:8080/",
          "height": 141
        },
        "id": "6EmChTAvFvLX",
        "outputId": "a3529449-61a0-4b4a-bd0e-61218a227145"
      },
      "execution_count": null,
      "outputs": [
        {
          "output_type": "error",
          "ename": "ValueError",
          "evalue": "could not convert string to float: 'a'",
          "traceback": [
            "\u001b[0;31m---------------------------------------------------------------------------\u001b[0m",
            "\u001b[0;31mValueError\u001b[0m                                Traceback (most recent call last)",
            "\u001b[0;32m<ipython-input-11-8eaa8574bc5b>\u001b[0m in \u001b[0;36m<cell line: 1>\u001b[0;34m()\u001b[0m\n\u001b[0;32m----> 1\u001b[0;31m \u001b[0mprint\u001b[0m\u001b[0;34m(\u001b[0m\u001b[0mfloat\u001b[0m\u001b[0;34m(\u001b[0m\u001b[0;34m\"a\"\u001b[0m\u001b[0;34m)\u001b[0m\u001b[0;34m)\u001b[0m\u001b[0;34m\u001b[0m\u001b[0;34m\u001b[0m\u001b[0m\n\u001b[0m",
            "\u001b[0;31mValueError\u001b[0m: could not convert string to float: 'a'"
          ]
        }
      ]
    },
    {
      "cell_type": "code",
      "source": [],
      "metadata": {
        "id": "XGwRoPWvGHaF"
      },
      "execution_count": null,
      "outputs": []
    }
  ]
}